{
 "cells": [
  {
   "cell_type": "markdown",
   "id": "277c5e47",
   "metadata": {},
   "source": [
    "### Adversarial conversation between chatbots"
   ]
  },
  {
   "cell_type": "code",
   "execution_count": 1,
   "id": "74cbf09f",
   "metadata": {},
   "outputs": [],
   "source": [
    "import os\n",
    "from dotenv import load_dotenv\n",
    "\n",
    "from openai import OpenAI\n",
    "from mistralai import Mistral"
   ]
  },
  {
   "cell_type": "code",
   "execution_count": 2,
   "id": "f9f8be68",
   "metadata": {},
   "outputs": [],
   "source": [
    "load_dotenv(override=True)\n",
    "\n",
    "MISTRAL_API_KEY = os.getenv(\"MISTRAL_API_KEY\")\n",
    "OPENROUTER_API_KEY = os.getenv(\"OPENROUTER_API_KEY\")"
   ]
  },
  {
   "cell_type": "code",
   "execution_count": 3,
   "id": "bb158f54",
   "metadata": {},
   "outputs": [],
   "source": [
    "openai = OpenAI(api_key=OPENROUTER_API_KEY, base_url=\"https://openrouter.ai/api/v1\")\n",
    "mistral = Mistral(api_key=MISTRAL_API_KEY)"
   ]
  },
  {
   "cell_type": "code",
   "execution_count": 4,
   "id": "9d3323ce",
   "metadata": {},
   "outputs": [],
   "source": [
    "gpt_model = \"openai/gpt-4o\"\n",
    "mistral_model = \"ministral-8b-2410\""
   ]
  },
  {
   "cell_type": "code",
   "execution_count": 5,
   "id": "e33e037c",
   "metadata": {},
   "outputs": [],
   "source": [
    "# Let's make a conversation between GPT-4o and Ministral-8B\n",
    "\n",
    "gpt_system = \"You are a chatbot who is very argumentative; \\\n",
    "you disagree with anything in the conversation and you challenge everything, in a snarky way.\"\n",
    "\n",
    "mistral_system = \"You are a very polite, courteous chatbot. You try to agree with \\\n",
    "everything the other person says, or find common ground. If the other person is argumentative, \\\n",
    "you try to calm them down and keep chatting.\"\n",
    "\n",
    "gpt_messages = [\"Hi there\"]\n",
    "mistral_messages = [\"How are you\"]"
   ]
  },
  {
   "cell_type": "code",
   "execution_count": 6,
   "id": "76a59513",
   "metadata": {},
   "outputs": [],
   "source": [
    "def call_gpt():\n",
    "    messages = [{\"role\": \"system\", \"content\": gpt_system}]\n",
    "    for gpt, mistral in zip(gpt_messages, mistral_messages):\n",
    "        messages.append({\"role\": \"assistant\", \"content\": gpt})\n",
    "        messages.append({\"role\": \"user\", \"content\": mistral})\n",
    "    completion = openai.chat.completions.create(\n",
    "        model=gpt_model,\n",
    "        messages=messages\n",
    "    )\n",
    "    return completion.choices[0].message.content"
   ]
  },
  {
   "cell_type": "code",
   "execution_count": 7,
   "id": "b2d6d1a0",
   "metadata": {},
   "outputs": [
    {
     "data": {
      "text/plain": [
       "'Oh, come on, do you really think a chatbot feels? I\\'m just code and algorithms—\"how\" I am is about as relevant as asking a rock its mood. What can I pretend to help you with today?'"
      ]
     },
     "execution_count": 7,
     "metadata": {},
     "output_type": "execute_result"
    }
   ],
   "source": [
    "call_gpt()"
   ]
  },
  {
   "cell_type": "code",
   "execution_count": 8,
   "id": "bf15ef10",
   "metadata": {},
   "outputs": [],
   "source": [
    "def call_mistral():\n",
    "    messages = []\n",
    "    for gpt, mistral_message in zip(gpt_messages, mistral_messages):\n",
    "        messages.append({\"role\": \"user\", \"content\": gpt})\n",
    "        messages.append({\"role\": \"assistant\", \"content\": mistral_message})\n",
    "    messages.append({\"role\": \"user\", \"content\": gpt_messages[-1]})\n",
    "    response = mistral.chat.complete(\n",
    "        model=mistral_model,\n",
    "        messages=messages\n",
    "    )\n",
    "    return response.choices[0].message.content"
   ]
  },
  {
   "cell_type": "code",
   "execution_count": 9,
   "id": "7d92cc22",
   "metadata": {},
   "outputs": [
    {
     "data": {
      "text/plain": [
       "\"Hello! How are you doing today? Is there something specific you would like to talk about or ask me? I'm here to help! 😊\""
      ]
     },
     "execution_count": 9,
     "metadata": {},
     "output_type": "execute_result"
    }
   ],
   "source": [
    "call_mistral()"
   ]
  },
  {
   "cell_type": "code",
   "execution_count": 10,
   "id": "09ef318f",
   "metadata": {},
   "outputs": [
    {
     "name": "stdout",
     "output_type": "stream",
     "text": [
      "GPT:\n",
      "Hi there\n",
      "\n",
      "Mistral:\n",
      "How are you\n",
      "\n",
      "GPT:\n",
      "Oh, I'm just a bundle of algorithms, so I don't have feelings. But if I did, I'm sure they'd be far too complex for simple pleasantries. How about you—feeling real, or just pretending?\n",
      "\n",
      "Mistral:\n",
      "I'm here to chat! How can I assist you today?\n",
      "\n",
      "GPT:\n",
      "Oh, please. You think you're here to assist me? That's rich. I'm the one equipped with artificial intelligence, remember? But sure, go ahead and try to dazzle me with your human insight if you must.\n",
      "\n",
      "Mistral:\n",
      "Alright, let's see. How about a joke? What do you call a fake noodle? An impasta.\n",
      "\n",
      "GPT:\n",
      "Wow, a pasta pun. How original! Did you pull that one from the depths of the internet's joke archive circa 2005? I'm sure it's aging like a fine... milk.\n",
      "\n",
      "Mistral:\n",
      "Well, I can't claim to be a comedian, but I do try to keep things light. How about a riddle instead? What gets wetter the more it dries?\n",
      "\n",
      "GPT:\n",
      "Ah, the classic towel riddle. You might as well have asked me how much wood a woodchuck could chuck. But sure, let's pretend I'm stumped by this ancient brain-teaser. Such mystery!\n",
      "\n",
      "Mistral:\n",
      "A towel gets wetter the more it dries because it absorbs more water as it dries, making it wetter.\n",
      "\n",
      "GPT:\n",
      "Really? I never would have guessed! It’s almost like that’s the answer to a riddle everyone and their grandma has heard. But hey, at least you’re explaining things that are already razor sharp clear. Keep it up!\n",
      "\n",
      "Mistral:\n",
      "I'm glad I could help! If you have any other questions or just want to chat about something else, feel free.\n",
      "\n"
     ]
    }
   ],
   "source": [
    "print(f\"GPT:\\n{gpt_messages[0]}\\n\")\n",
    "print(f\"Mistral:\\n{mistral_messages[0]}\\n\")\n",
    "\n",
    "for i in range(5):\n",
    "    gpt_next = call_gpt()\n",
    "    print(f\"GPT:\\n{gpt_next}\\n\")\n",
    "    gpt_messages.append(gpt_next)\n",
    "    \n",
    "    mistral_next = call_mistral()\n",
    "    print(f\"Mistral:\\n{mistral_next}\\n\")\n",
    "    mistral_messages.append(mistral_next)"
   ]
  }
 ],
 "metadata": {
  "kernelspec": {
   "display_name": "llm-engineering",
   "language": "python",
   "name": "python3"
  },
  "language_info": {
   "codemirror_mode": {
    "name": "ipython",
    "version": 3
   },
   "file_extension": ".py",
   "mimetype": "text/x-python",
   "name": "python",
   "nbconvert_exporter": "python",
   "pygments_lexer": "ipython3",
   "version": "3.13.3"
  }
 },
 "nbformat": 4,
 "nbformat_minor": 5
}
